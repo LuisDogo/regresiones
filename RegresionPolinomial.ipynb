{
 "cells": [
  {
   "cell_type": "markdown",
   "metadata": {},
   "source": [
    "# Regresión Polinomial"
   ]
  },
  {
   "cell_type": "markdown",
   "metadata": {},
   "source": [
    "We have a polynomial function of grade n.\n",
    "\n",
    "$$P(x) = a_0 + a_1 x + a_2 x^2 + a_mx^n$$\n",
    "\n",
    "Where:\n",
    "\n",
    "- $P(x)$ is the dependent variable.\n",
    "- $x$ is the independent variable.\n",
    "- $a_0, a_1, ..., a_m$ are the coefficients of the polynomial estimated from the data.\n",
    "- $n$ is the grade of the polynomi\n",
    "- $m$ is the total number of data.\n",
    "\n",
    "The objective of polynomial regression is to find the optimal values of coefficients $a_0, a_1, ..., a_m$ that minimize the sum of squared residuals, i.e., minimizing the difference between observed values and values predicted by the model.\n",
    "\n",
    "Consideremos una función de error $s$:\n",
    "\n",
    "$$S = \\sum_{i = 1}^{m} (P(x_i) - y_i)^2$$\n",
    "\n",
    "La cual corresponde a la formula del error cuadratico medio.\n",
    "\n",
    "Si desarrollamos el polinomio $P(x_i)$ obtenemos:\n",
    "\n",
    "$$S = \\sum_{i = 1}^{m} (a_0 + a_1 x + a_2 x^2 + a_mx^n - y_i)^2$$\n",
    "\n",
    "Recordemos que nuestras $x_i$ representan cada una de nuestras observaciones"
   ]
  },
  {
   "cell_type": "code",
   "execution_count": 17,
   "metadata": {},
   "outputs": [],
   "source": [
    "import pandas as pd\n",
    "import numpy as np\n",
    "import matplotlib.pyplot as plt\n",
    "import seaborn as sns"
   ]
  },
  {
   "cell_type": "code",
   "execution_count": 18,
   "metadata": {},
   "outputs": [
    {
     "data": {
      "text/html": [
       "<div>\n",
       "<style scoped>\n",
       "    .dataframe tbody tr th:only-of-type {\n",
       "        vertical-align: middle;\n",
       "    }\n",
       "\n",
       "    .dataframe tbody tr th {\n",
       "        vertical-align: top;\n",
       "    }\n",
       "\n",
       "    .dataframe thead th {\n",
       "        text-align: right;\n",
       "    }\n",
       "</style>\n",
       "<table border=\"1\" class=\"dataframe\">\n",
       "  <thead>\n",
       "    <tr style=\"text-align: right;\">\n",
       "      <th></th>\n",
       "      <th>YearsExperience</th>\n",
       "      <th>Salary</th>\n",
       "    </tr>\n",
       "  </thead>\n",
       "  <tbody>\n",
       "    <tr>\n",
       "      <th>0</th>\n",
       "      <td>1.1</td>\n",
       "      <td>39343.0</td>\n",
       "    </tr>\n",
       "    <tr>\n",
       "      <th>1</th>\n",
       "      <td>1.3</td>\n",
       "      <td>46205.0</td>\n",
       "    </tr>\n",
       "    <tr>\n",
       "      <th>2</th>\n",
       "      <td>1.5</td>\n",
       "      <td>37731.0</td>\n",
       "    </tr>\n",
       "    <tr>\n",
       "      <th>3</th>\n",
       "      <td>2.0</td>\n",
       "      <td>43525.0</td>\n",
       "    </tr>\n",
       "    <tr>\n",
       "      <th>4</th>\n",
       "      <td>2.2</td>\n",
       "      <td>39891.0</td>\n",
       "    </tr>\n",
       "  </tbody>\n",
       "</table>\n",
       "</div>"
      ],
      "text/plain": [
       "   YearsExperience   Salary\n",
       "0              1.1  39343.0\n",
       "1              1.3  46205.0\n",
       "2              1.5  37731.0\n",
       "3              2.0  43525.0\n",
       "4              2.2  39891.0"
      ]
     },
     "execution_count": 18,
     "metadata": {},
     "output_type": "execute_result"
    }
   ],
   "source": [
    "data = pd.read_csv(\"data/Salary_Data.csv\")\n",
    "data.head()"
   ]
  },
  {
   "cell_type": "code",
   "execution_count": 19,
   "metadata": {},
   "outputs": [
    {
     "data": {
      "text/plain": [
       "(30, 2)"
      ]
     },
     "execution_count": 19,
     "metadata": {},
     "output_type": "execute_result"
    }
   ],
   "source": [
    "data.shape"
   ]
  },
  {
   "cell_type": "code",
   "execution_count": 20,
   "metadata": {},
   "outputs": [
    {
     "name": "stdout",
     "output_type": "stream",
     "text": [
      "0.9782416184887599\n"
     ]
    },
    {
     "data": {
      "image/png": "[encoded data removed]",
      "text/plain": [
       "<Figure size 640x480 with 1 Axes>"
      ]
     },
     "metadata": {},
     "output_type": "display_data"
    }
   ],
   "source": [
    "sns.scatterplot(x=\"YearsExperience\", y=\"Salary\", data=data)\n",
    "print(data[\"YearsExperience\"].corr(data[\"Salary\"]))\n"
   ]
  },
  {
   "cell_type": "code",
   "execution_count": 21,
   "metadata": {},
   "outputs": [],
   "source": [
    "x = np.array(data[\"YearsExperience\"], dtype=float)\n",
    "y = np.array(data[\"Salary\"],dtype=float)\n",
    "cantidad_datos = data.shape[0]"
   ]
  },
  {
   "cell_type": "code",
   "execution_count": 22,
   "metadata": {},
   "outputs": [],
   "source": [
    "def funcion_regresion(coeficientes,x):\n",
    "    return np.polyval(coeficientes,x)"
   ]
  },
  {
   "cell_type": "code",
   "execution_count": 25,
   "metadata": {},
   "outputs": [
    {
     "name": "stdout",
     "output_type": "stream",
     "text": [
      "[-7.10339216e+05  2.06205233e+06 -2.21061460e+06  1.16886623e+06\n",
      " -3.02925567e+05  2.15143278e+04  7.90685751e+03 -2.19915132e+03\n",
      "  2.09988113e+02 -3.28601999e+00 -8.02351544e-01  2.26466928e-02\n",
      "  9.97433144e-03 -1.15938710e-03 -3.67385569e-05  1.08854913e-05\n",
      "  2.51299157e-07 -7.74931016e-08 -2.14027082e-09  5.59168782e-10\n",
      " -1.76625265e-11]\n"
     ]
    },
    {
     "name": "stderr",
     "output_type": "stream",
     "text": [
      "/tmp/ipykernel_1464/3969547460.py:10: RuntimeWarning: overflow encountered in power\n",
      "  valores_x[i] = (x**i).sum()\n"
     ]
    },
    {
     "data": {
      "text/plain": [
       "array([-1.76625265e-11,  5.59168782e-10, -2.14027082e-09, -7.74931016e-08,\n",
       "        2.51299157e-07,  1.08854913e-05, -3.67385569e-05, -1.15938710e-03,\n",
       "        9.97433144e-03,  2.26466928e-02, -8.02351544e-01, -3.28601999e+00,\n",
       "        2.09988113e+02, -2.19915132e+03,  7.90685751e+03,  2.15143278e+04,\n",
       "       -3.02925567e+05,  1.16886623e+06, -2.21061460e+06,  2.06205233e+06,\n",
       "       -7.10339216e+05])"
      ]
     },
     "execution_count": 25,
     "metadata": {},
     "output_type": "execute_result"
    }
   ],
   "source": [
    "grado_polinomio = 20\n",
    "\n",
    "matriz_a = np.zeros((grado_polinomio+1,grado_polinomio+1), dtype=float)\n",
    "matriz_b = np.zeros(grado_polinomio+1, dtype=float)\n",
    "valores_x = np.zeros(grado_polinomio**2 + 1, dtype=float)\n",
    "valores_x[0] = cantidad_datos\n",
    "\n",
    "\n",
    "for i in range(1,grado_polinomio**2 + 1):\n",
    "    valores_x[i] = (x**i).sum()\n",
    "\n",
    "for i in range(0,grado_polinomio + 1):\n",
    "    matriz_a[i] = valores_x[i:grado_polinomio+i+1]\n",
    "    matriz_b[i] = ((x**i) * y).sum()\n",
    "    \n",
    "coeficientes = np.linalg.solve(matriz_a,matriz_b)\n",
    "print(coeficientes)\n",
    "coeficientes = np.flip(coeficientes)\n",
    "coeficientes"
   ]
  },
  {
   "cell_type": "code",
   "execution_count": 26,
   "metadata": {},
   "outputs": [
    {
     "data": {
      "text/plain": [
       "[<matplotlib.lines.Line2D at 0x7f31335cfe90>]"
      ]
     },
     "execution_count": 26,
     "metadata": {},
     "output_type": "execute_result"
    },
    {
     "data": {
      "image/png": "[encoded data removed]",
      "text/plain": [
       "<Figure size 640x480 with 1 Axes>"
      ]
     },
     "metadata": {},
     "output_type": "display_data"
    }
   ],
   "source": [
    "regresion_x = np.linspace(min(x),max(x),100)\n",
    "regresion_y = funcion_regresion(coeficientes,regresion_x)\n",
    "sns.scatterplot(x=\"YearsExperience\", y=\"Salary\", data=data)\n",
    "plt.plot(regresion_x,regresion_y, color = \"r\")"
   ]
  }
 ],
 "metadata": {
  "kernelspec": {
   "display_name": "base",
   "language": "python",
   "name": "python3"
  },
  "language_info": {
   "codemirror_mode": {
    "name": "ipython",
    "version": 3
   },
   "file_extension": ".py",
   "mimetype": "text/x-python",
   "name": "python",
   "nbconvert_exporter": "python",
   "pygments_lexer": "ipython3",
   "version": "3.11.7"
  }
 },
 "nbformat": 4,
 "nbformat_minor": 2
}
