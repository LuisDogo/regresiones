{
 "cells": [
  {
   "cell_type": "code",
   "execution_count": 119,
   "metadata": {},
   "outputs": [],
   "source": [
    "import pandas as pd\n",
    "import numpy as np\n",
    "import matplotlib.pyplot as plot\n",
    "from sklearn.model_selection import train_test_split\n",
    "from sklearn.preprocessing import StandardScaler\n",
    "from sklearn.linear_model import LogisticRegression\n",
    "from sklearn.metrics import accuracy_score, precision_score, recall_score, f1_score\n"
   ]
  },
  {
   "cell_type": "code",
   "execution_count": 121,
   "metadata": {},
   "outputs": [],
   "source": [
    "def sigmoid_function(x: float) -> float:\n",
    "    return 1 / (1 + np.exp(-x))\n",
    "\n",
    "def cost_function(y_true: np.array, y_pred: np.array) -> float:\n",
    "    return -np.mean(y_true * np.log(y_pred) + (1 - y_true) * np.log(1 - y_pred))\n",
    "\n",
    "def gradient_descent(X: np.ndarray, y: np.ndarray,num_iters: int, learning_rate: float, ):\n",
    "    num_samples, num_features = X.shape\n",
    "\n",
    "    weights = np.zeros(num_features)\n",
    "    bias = 0\n",
    "\n",
    "    for i in range(num_iters):\n",
    "        y_pred = sigmoid_function( np.dot(X,weights) + bias)\n",
    "\n",
    "        dw = ( 1 / num_samples ) * np.dot(X.T, (y_pred - y))\n",
    "        db = ( 1 / num_samples ) * np.sum(y_pred - y)\n",
    "\n",
    "        weights = weights - learning_rate * dw\n",
    "        bias = bias - learning_rate * db\n",
    "\n",
    "        cost = cost_function(y,y_pred)\n",
    "\n",
    "    return weights, bias\n",
    "\n",
    "def predict(X: np.ndarray, weights: np.ndarray, bias: float):\n",
    "    y_pred = sigmoid_function(np.dot(X,weights) + bias)\n",
    "    y_pred_bin = [1 if x >= 0.5 else 0 for x in y_pred]\n",
    "    return y_pred,y_pred_bin"
   ]
  },
  {
   "cell_type": "code",
   "execution_count": 122,
   "metadata": {},
   "outputs": [],
   "source": [
    "np.random.seed(0)\n",
    "X = np.random.randn(400,2)\n",
    "y = np.random.randint(0,2,400)\n",
    "\n",
    "X_train, X_test, y_train, y_test = train_test_split(X, y, test_size=0.2, random_state=42)\n",
    "\n",
    "learning_rate = 0.001\n",
    "n_iters = 1000\n",
    "\n",
    "weights, bias = gradient_descent(X_train,y_train, n_iters, learning_rate)"
   ]
  },
  {
   "cell_type": "code",
   "execution_count": 123,
   "metadata": {},
   "outputs": [
    {
     "data": {
      "text/plain": [
       "[0,\n",
       " 1,\n",
       " 1,\n",
       " 0,\n",
       " 1,\n",
       " 1,\n",
       " 1,\n",
       " 0,\n",
       " 1,\n",
       " 1,\n",
       " 1,\n",
       " 1,\n",
       " 0,\n",
       " 0,\n",
       " 1,\n",
       " 0,\n",
       " 1,\n",
       " 0,\n",
       " 1,\n",
       " 1,\n",
       " 1,\n",
       " 1,\n",
       " 1,\n",
       " 0,\n",
       " 0,\n",
       " 0,\n",
       " 1,\n",
       " 1,\n",
       " 1,\n",
       " 1,\n",
       " 1,\n",
       " 1,\n",
       " 1,\n",
       " 1,\n",
       " 0,\n",
       " 1,\n",
       " 1,\n",
       " 1,\n",
       " 1,\n",
       " 0,\n",
       " 1,\n",
       " 0,\n",
       " 1,\n",
       " 1,\n",
       " 1,\n",
       " 1,\n",
       " 1,\n",
       " 1,\n",
       " 1,\n",
       " 1,\n",
       " 0,\n",
       " 1,\n",
       " 1,\n",
       " 1,\n",
       " 1,\n",
       " 1,\n",
       " 1,\n",
       " 1,\n",
       " 1,\n",
       " 1,\n",
       " 1,\n",
       " 1,\n",
       " 0,\n",
       " 1,\n",
       " 0,\n",
       " 1,\n",
       " 0,\n",
       " 1,\n",
       " 1,\n",
       " 1,\n",
       " 0,\n",
       " 0,\n",
       " 0,\n",
       " 0,\n",
       " 1,\n",
       " 0,\n",
       " 0,\n",
       " 1,\n",
       " 1,\n",
       " 0]"
      ]
     },
     "execution_count": 123,
     "metadata": {},
     "output_type": "execute_result"
    }
   ],
   "source": [
    "y_pred, y_pred_bin = predict(X_test, weights,bias)\n",
    "y_pred_bin"
   ]
  },
  {
   "cell_type": "code",
   "execution_count": 124,
   "metadata": {},
   "outputs": [
    {
     "data": {
      "text/plain": [
       "array([0, 1, 1, 0, 1, 1, 1, 0, 1, 1, 1, 1, 0, 0, 1, 0, 1, 0, 1, 1, 1, 1,\n",
       "       1, 0, 0, 0, 1, 1, 1, 1, 1, 1, 1, 1, 0, 1, 1, 1, 1, 0, 1, 0, 1, 1,\n",
       "       1, 1, 1, 1, 1, 1, 0, 1, 1, 1, 1, 1, 1, 1, 1, 1, 1, 1, 0, 1, 0, 1,\n",
       "       0, 1, 1, 0, 0, 0, 0, 0, 1, 0, 0, 1, 1, 0])"
      ]
     },
     "execution_count": 124,
     "metadata": {},
     "output_type": "execute_result"
    }
   ],
   "source": [
    "clf = LogisticRegression()\n",
    "\n",
    "clf.fit(X_train, y_train)\n",
    "\n",
    "y_pred_sklearn = clf.predict_proba(X_test)[:,1]\n",
    "y_pred_sklearn_bin = clf.predict(X_test)\n",
    "y_pred_sklearn_bin"
   ]
  },
  {
   "cell_type": "code",
   "execution_count": 125,
   "metadata": {},
   "outputs": [
    {
     "name": "stdout",
     "output_type": "stream",
     "text": [
      "Métricas para nuestra implementacion :\n",
      "Accuracy: 0.575\n",
      "Precisión: 0.5892857142857143\n",
      "Recall: 0.75\n",
      "F1-score: 0.6599999999999999\n",
      "\n",
      "Métricas para la implementación de Scikit-Learn:\n",
      "Accuracy: 0.5625\n",
      "Precisión: 0.5818181818181818\n",
      "Recall: 0.7272727272727273\n",
      "F1-score: 0.6464646464646464\n"
     ]
    }
   ],
   "source": [
    "\n",
    "# Métricas para tu implementación\n",
    "accuracy_custom = accuracy_score(y_test, y_pred_bin)\n",
    "precision_custom = precision_score(y_test, y_pred_bin)\n",
    "recall_custom = recall_score(y_test, y_pred_bin)\n",
    "f1_custom = f1_score(y_test, y_pred_bin)\n",
    "\n",
    "# Métricas para la implementación de Scikit-Learn\n",
    "accuracy_sklearn = accuracy_score(y_test, y_pred_sklearn_bin)\n",
    "precision_sklearn = precision_score(y_test, y_pred_sklearn_bin)\n",
    "recall_sklearn = recall_score(y_test, y_pred_sklearn_bin)\n",
    "f1_sklearn = f1_score(y_test, y_pred_sklearn_bin)\n",
    "\n",
    "print(\"Métricas para nuestra implementacion :\")\n",
    "print(f\"Accuracy: {accuracy_custom}\")\n",
    "print(f\"Precisión: {precision_custom}\")\n",
    "print(f\"Recall: {recall_custom}\")\n",
    "print(f\"F1-score: {f1_custom}\")\n",
    "\n",
    "print(\"\\nMétricas para la implementación de Scikit-Learn:\")\n",
    "print(f\"Accuracy: {accuracy_sklearn}\")\n",
    "print(f\"Precisión: {precision_sklearn}\")\n",
    "print(f\"Recall: {recall_sklearn}\")\n",
    "print(f\"F1-score: {f1_sklearn}\")"
   ]
  },
  {
   "cell_type": "code",
   "execution_count": null,
   "metadata": {},
   "outputs": [],
   "source": []
  },
  {
   "cell_type": "code",
   "execution_count": 113,
   "metadata": {},
   "outputs": [],
   "source": [
    "def sigmoid_function(x: np.ndarray) -> np.ndarray:\n",
    "    clipped_x = np.clip(x, -500, 500)  # Limita los valores de x para evitar desbordamiento\n",
    "    return 1 / (1 + np.exp(-clipped_x))\n",
    "\n",
    "def cost_function(y_true: np.ndarray, y_pred: np.ndarray, epsilon: float = 1e-15) -> float:\n",
    "\n",
    "    y_pred = np.clip(y_pred, epsilon, 1 - epsilon)  # Limita las probabilidades predichas para evitar divisiones por cero\n",
    "    return -np.mean(y_true * np.log(y_pred) + (1 - y_true) * np.log(1 - y_pred))"
   ]
  },
  {
   "cell_type": "code",
   "execution_count": 98,
   "metadata": {},
   "outputs": [
    {
     "data": {
      "text/html": [
       "<div>\n",
       "<style scoped>\n",
       "    .dataframe tbody tr th:only-of-type {\n",
       "        vertical-align: middle;\n",
       "    }\n",
       "\n",
       "    .dataframe tbody tr th {\n",
       "        vertical-align: top;\n",
       "    }\n",
       "\n",
       "    .dataframe thead th {\n",
       "        text-align: right;\n",
       "    }\n",
       "</style>\n",
       "<table border=\"1\" class=\"dataframe\">\n",
       "  <thead>\n",
       "    <tr style=\"text-align: right;\">\n",
       "      <th></th>\n",
       "      <th>Gender</th>\n",
       "      <th>Age</th>\n",
       "      <th>EstimatedSalary</th>\n",
       "      <th>Purchased</th>\n",
       "    </tr>\n",
       "  </thead>\n",
       "  <tbody>\n",
       "    <tr>\n",
       "      <th>0</th>\n",
       "      <td>Male</td>\n",
       "      <td>19</td>\n",
       "      <td>19000</td>\n",
       "      <td>0</td>\n",
       "    </tr>\n",
       "    <tr>\n",
       "      <th>1</th>\n",
       "      <td>Male</td>\n",
       "      <td>35</td>\n",
       "      <td>20000</td>\n",
       "      <td>0</td>\n",
       "    </tr>\n",
       "    <tr>\n",
       "      <th>2</th>\n",
       "      <td>Female</td>\n",
       "      <td>26</td>\n",
       "      <td>43000</td>\n",
       "      <td>0</td>\n",
       "    </tr>\n",
       "    <tr>\n",
       "      <th>3</th>\n",
       "      <td>Female</td>\n",
       "      <td>27</td>\n",
       "      <td>57000</td>\n",
       "      <td>0</td>\n",
       "    </tr>\n",
       "    <tr>\n",
       "      <th>4</th>\n",
       "      <td>Male</td>\n",
       "      <td>19</td>\n",
       "      <td>76000</td>\n",
       "      <td>0</td>\n",
       "    </tr>\n",
       "  </tbody>\n",
       "</table>\n",
       "</div>"
      ],
      "text/plain": [
       "   Gender  Age  EstimatedSalary  Purchased\n",
       "0    Male   19            19000          0\n",
       "1    Male   35            20000          0\n",
       "2  Female   26            43000          0\n",
       "3  Female   27            57000          0\n",
       "4    Male   19            76000          0"
      ]
     },
     "execution_count": 98,
     "metadata": {},
     "output_type": "execute_result"
    }
   ],
   "source": [
    "df = pd.read_csv(\"/home/gsu/ESCOM/regresiones/data/regresionLogistica.csv\")\n",
    "df.drop('User ID',axis=1, inplace=True)\n",
    "df.head()"
   ]
  },
  {
   "cell_type": "code",
   "execution_count": 99,
   "metadata": {},
   "outputs": [
    {
     "data": {
      "text/plain": [
       "array(['Male', 'Female'], dtype=object)"
      ]
     },
     "execution_count": 99,
     "metadata": {},
     "output_type": "execute_result"
    }
   ],
   "source": [
    "df[\"Gender\"].unique()"
   ]
  },
  {
   "cell_type": "code",
   "execution_count": 100,
   "metadata": {},
   "outputs": [
    {
     "data": {
      "text/plain": [
       "Gender\n",
       "Female    204\n",
       "Male      196\n",
       "Name: count, dtype: int64"
      ]
     },
     "execution_count": 100,
     "metadata": {},
     "output_type": "execute_result"
    }
   ],
   "source": [
    "df[\"Gender\"].value_counts()"
   ]
  },
  {
   "cell_type": "code",
   "execution_count": 101,
   "metadata": {},
   "outputs": [],
   "source": [
    "diccionary_gender = {\"Male\": 0, \"Female\": 1}\n",
    "\n",
    "def encoding_gender(gender: str, diccionary_gender: dict) -> int:\n",
    "    return diccionary_gender.get(gender)\n",
    "\n",
    "df[\"Gender\"] = df[\"Gender\"].apply(lambda x: encoding_gender(x, diccionary_gender))"
   ]
  },
  {
   "cell_type": "code",
   "execution_count": 102,
   "metadata": {},
   "outputs": [
    {
     "data": {
      "text/html": [
       "<div>\n",
       "<style scoped>\n",
       "    .dataframe tbody tr th:only-of-type {\n",
       "        vertical-align: middle;\n",
       "    }\n",
       "\n",
       "    .dataframe tbody tr th {\n",
       "        vertical-align: top;\n",
       "    }\n",
       "\n",
       "    .dataframe thead th {\n",
       "        text-align: right;\n",
       "    }\n",
       "</style>\n",
       "<table border=\"1\" class=\"dataframe\">\n",
       "  <thead>\n",
       "    <tr style=\"text-align: right;\">\n",
       "      <th></th>\n",
       "      <th>Gender</th>\n",
       "      <th>Age</th>\n",
       "      <th>EstimatedSalary</th>\n",
       "      <th>Purchased</th>\n",
       "    </tr>\n",
       "  </thead>\n",
       "  <tbody>\n",
       "    <tr>\n",
       "      <th>0</th>\n",
       "      <td>0</td>\n",
       "      <td>19</td>\n",
       "      <td>19000</td>\n",
       "      <td>0</td>\n",
       "    </tr>\n",
       "    <tr>\n",
       "      <th>1</th>\n",
       "      <td>0</td>\n",
       "      <td>35</td>\n",
       "      <td>20000</td>\n",
       "      <td>0</td>\n",
       "    </tr>\n",
       "    <tr>\n",
       "      <th>2</th>\n",
       "      <td>1</td>\n",
       "      <td>26</td>\n",
       "      <td>43000</td>\n",
       "      <td>0</td>\n",
       "    </tr>\n",
       "    <tr>\n",
       "      <th>3</th>\n",
       "      <td>1</td>\n",
       "      <td>27</td>\n",
       "      <td>57000</td>\n",
       "      <td>0</td>\n",
       "    </tr>\n",
       "    <tr>\n",
       "      <th>4</th>\n",
       "      <td>0</td>\n",
       "      <td>19</td>\n",
       "      <td>76000</td>\n",
       "      <td>0</td>\n",
       "    </tr>\n",
       "  </tbody>\n",
       "</table>\n",
       "</div>"
      ],
      "text/plain": [
       "   Gender  Age  EstimatedSalary  Purchased\n",
       "0       0   19            19000          0\n",
       "1       0   35            20000          0\n",
       "2       1   26            43000          0\n",
       "3       1   27            57000          0\n",
       "4       0   19            76000          0"
      ]
     },
     "execution_count": 102,
     "metadata": {},
     "output_type": "execute_result"
    }
   ],
   "source": [
    "df.head()"
   ]
  },
  {
   "cell_type": "code",
   "execution_count": 112,
   "metadata": {},
   "outputs": [
    {
     "data": {
      "text/plain": [
       "(400, 4)"
      ]
     },
     "execution_count": 112,
     "metadata": {},
     "output_type": "execute_result"
    }
   ],
   "source": [
    "df.shape"
   ]
  },
  {
   "cell_type": "code",
   "execution_count": 103,
   "metadata": {},
   "outputs": [],
   "source": [
    "y = df[\"Purchased\"]\n",
    "X = df.drop(\"Purchased\", axis=1)\n",
    "\n",
    "X_train, X_test, y_train, y_test = train_test_split(X, y, test_size=0.2, random_state=42)"
   ]
  },
  {
   "cell_type": "code",
   "execution_count": 115,
   "metadata": {},
   "outputs": [],
   "source": [
    "learning_rate = 0.001\n",
    "n_iters = 1000\n",
    "\n",
    "weights, bias = gradient_descent(X_train,y_train, n_iters,learning_rate)\n",
    "y_pred, y_pred_bin = predict(X_test, weights,bias)\n"
   ]
  },
  {
   "cell_type": "code",
   "execution_count": 109,
   "metadata": {},
   "outputs": [
    {
     "data": {
      "text/plain": [
       "80"
      ]
     },
     "execution_count": 109,
     "metadata": {},
     "output_type": "execute_result"
    }
   ],
   "source": [
    "clf = LogisticRegression()\n",
    "\n",
    "clf.fit(X_train, y_train)\n",
    "\n",
    "y_pred_sklearn = clf.predict_proba(X_test)[:,1]\n",
    "y_pred_sklearn_bin = clf.predict(X_test)\n",
    "len(y_pred_sklearn_bin)"
   ]
  },
  {
   "cell_type": "code",
   "execution_count": 118,
   "metadata": {},
   "outputs": [
    {
     "name": "stdout",
     "output_type": "stream",
     "text": [
      "Métricas para nuestra implementacion :\n",
      "Accuracy: 0.35\n",
      "Precisión: 0.35\n",
      "Recall: 1.0\n",
      "F1-score: 0.5185185185185185\n",
      "\n",
      "Métricas para la implementación de Scikit-Learn:\n",
      "Accuracy: 0.65\n",
      "Precisión: 0.0\n",
      "Recall: 0.0\n",
      "F1-score: 0.0\n"
     ]
    },
    {
     "name": "stderr",
     "output_type": "stream",
     "text": [
      "/home/gsu/anaconda3/lib/python3.11/site-packages/sklearn/metrics/_classification.py:1344: UndefinedMetricWarning: Precision is ill-defined and being set to 0.0 due to no predicted samples. Use `zero_division` parameter to control this behavior.\n",
      "  _warn_prf(average, modifier, msg_start, len(result))\n"
     ]
    }
   ],
   "source": [
    "# Métricas para tu implementación\n",
    "accuracy_custom = accuracy_score(y_test, y_pred_bin)\n",
    "precision_custom = precision_score(y_test, y_pred_bin)\n",
    "recall_custom = recall_score(y_test, y_pred_bin)\n",
    "f1_custom = f1_score(y_test, y_pred_bin)\n",
    "\n",
    "# Métricas para la implementación de Scikit-Learn\n",
    "accuracy_sklearn = accuracy_score(y_test, y_pred_sklearn_bin)\n",
    "precision_sklearn = precision_score(y_test, y_pred_sklearn_bin)\n",
    "recall_sklearn = recall_score(y_test, y_pred_sklearn_bin)\n",
    "f1_sklearn = f1_score(y_test, y_pred_sklearn_bin)\n",
    "\n",
    "print(\"Métricas para nuestra implementacion :\")\n",
    "print(f\"Accuracy: {accuracy_custom}\")\n",
    "print(f\"Precisión: {precision_custom}\")\n",
    "print(f\"Recall: {recall_custom}\")\n",
    "print(f\"F1-score: {f1_custom}\")\n",
    "\n",
    "print(\"\\nMétricas para la implementación de Scikit-Learn:\")\n",
    "print(f\"Accuracy: {accuracy_sklearn}\")\n",
    "print(f\"Precisión: {precision_sklearn}\")\n",
    "print(f\"Recall: {recall_sklearn}\")\n",
    "print(f\"F1-score: {f1_sklearn}\")"
   ]
  }
 ],
 "metadata": {
  "kernelspec": {
   "display_name": "base",
   "language": "python",
   "name": "python3"
  },
  "language_info": {
   "codemirror_mode": {
    "name": "ipython",
    "version": 3
   },
   "file_extension": ".py",
   "mimetype": "text/x-python",
   "name": "python",
   "nbconvert_exporter": "python",
   "pygments_lexer": "ipython3",
   "version": "3.11.7"
  }
 },
 "nbformat": 4,
 "nbformat_minor": 2
}
